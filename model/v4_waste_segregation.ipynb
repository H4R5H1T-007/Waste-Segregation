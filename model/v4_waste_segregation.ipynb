{
  "nbformat": 4,
  "nbformat_minor": 0,
  "metadata": {
    "colab": {
      "name": "v4_waste_segregation.ipynb",
      "provenance": [],
      "include_colab_link": true
    },
    "kernelspec": {
      "name": "python3",
      "display_name": "Python 3"
    },
    "accelerator": "GPU"
  },
  "cells": [
    {
      "cell_type": "markdown",
      "metadata": {
        "id": "view-in-github",
        "colab_type": "text"
      },
      "source": [
        "<a href=\"https://colab.research.google.com/github/pra17dod/Waste-Segregation/blob/main/model/v4_waste_segregation.ipynb\" target=\"_parent\"><img src=\"https://colab.research.google.com/assets/colab-badge.svg\" alt=\"Open In Colab\"/></a>"
      ]
    },
    {
      "cell_type": "code",
      "metadata": {
        "colab": {
          "base_uri": "https://localhost:8080/"
        },
        "id": "UucEzZNSb0mZ",
        "outputId": "66f9eb88-5112-44ba-e592-77c6e9f1b8bf"
      },
      "source": [
        "from google.colab import drive\n",
        "drive.mount('/content/drive')"
      ],
      "execution_count": 1,
      "outputs": [
        {
          "output_type": "stream",
          "text": [
            "Mounted at /content/drive\n"
          ],
          "name": "stdout"
        }
      ]
    },
    {
      "cell_type": "code",
      "metadata": {
        "id": "9lz6E-b5qXfb"
      },
      "source": [
        "import numpy as np\r\n",
        "import pandas as pd\r\n",
        "import matplotlib.pyplot as plt\r\n",
        "import os\r\n",
        "import shutil\r\n",
        "import re\r\n",
        "import random\r\n",
        "import seaborn as sns\r\n",
        "import cv2 as cv\r\n",
        "from PIL import Image\r\n",
        "import pickle\r\n",
        "# import sys\r\n",
        "# sys.setrecursionlimit(1000000000)\r\n",
        "\r\n",
        "import tensorflow as tf\r\n",
        "from tensorflow.keras.preprocessing.image import load_img, img_to_array\r\n",
        "from tensorflow.keras.layers import Dense, Flatten\r\n",
        "from tensorflow.keras.preprocessing import image_dataset_from_directory\r\n",
        "# from tfhub import load_model_weights"
      ],
      "execution_count": 2,
      "outputs": []
    },
    {
      "cell_type": "code",
      "metadata": {
        "id": "7HVBQr8ubxPx"
      },
      "source": [
        "!unzip -qq /content/drive/Shareddrives/Hackathon/dataset-resized.zip -d /content/"
      ],
      "execution_count": 3,
      "outputs": []
    },
    {
      "cell_type": "code",
      "metadata": {
        "id": "8LFtVFiC5P2A",
        "colab": {
          "base_uri": "https://localhost:8080/"
        },
        "outputId": "d7d8badd-82b3-409e-bead-0aec37c73a56"
      },
      "source": [
        "!rm -r dataset-resized/trash/*\n",
        "!rmdir dataset-resized/trash\n",
        "!rmdir dataset-resized/.ipynb_checkpoints"
      ],
      "execution_count": 4,
      "outputs": [
        {
          "output_type": "stream",
          "text": [
            "rm: cannot remove 'dataset-resized/trash/*': No such file or directory\n",
            "rmdir: failed to remove 'dataset-resized/trash': No such file or directory\n",
            "rmdir: failed to remove 'dataset-resized/.ipynb_checkpoints': No such file or directory\n"
          ],
          "name": "stdout"
        }
      ]
    },
    {
      "cell_type": "code",
      "metadata": {
        "id": "-AMn09eUqv2x",
        "colab": {
          "base_uri": "https://localhost:8080/"
        },
        "outputId": "b284b6ec-5cce-4a8e-e785-78765cb2cb52"
      },
      "source": [
        "os.listdir(os.path.join(os.getcwd(),\"dataset-resized\"))"
      ],
      "execution_count": 5,
      "outputs": [
        {
          "output_type": "execute_result",
          "data": {
            "text/plain": [
              "['metal', 'organic', 'plastic', 'paper', 'glass', 'cardboard']"
            ]
          },
          "metadata": {
            "tags": []
          },
          "execution_count": 5
        }
      ]
    },
    {
      "cell_type": "code",
      "metadata": {
        "colab": {
          "base_uri": "https://localhost:8080/",
          "height": 35
        },
        "id": "Yh5PGlyDGPhG",
        "outputId": "fe07e98b-c701-4eb7-a2fe-4d2a0de7217a"
      },
      "source": [
        "## get a path to the folder with images\r\n",
        "path = os.path.join(os.getcwd(),\"dataset-resized\")\r\n",
        "path"
      ],
      "execution_count": 6,
      "outputs": [
        {
          "output_type": "execute_result",
          "data": {
            "application/vnd.google.colaboratory.intrinsic+json": {
              "type": "string"
            },
            "text/plain": [
              "'/content/dataset-resized'"
            ]
          },
          "metadata": {
            "tags": []
          },
          "execution_count": 6
        }
      ]
    },
    {
      "cell_type": "code",
      "metadata": {
        "colab": {
          "base_uri": "https://localhost:8080/"
        },
        "id": "tYIoR9s2W4g8",
        "outputId": "2a9e67d6-9569-4d93-dcc6-a53d9418dc69"
      },
      "source": [
        "print(len(os.listdir('./dataset-resized//')))"
      ],
      "execution_count": 7,
      "outputs": [
        {
          "output_type": "stream",
          "text": [
            "6\n"
          ],
          "name": "stdout"
        }
      ]
    },
    {
      "cell_type": "code",
      "metadata": {
        "colab": {
          "base_uri": "https://localhost:8080/"
        },
        "id": "31H5GMssGZa1",
        "outputId": "6609f447-e00b-47bb-e14d-0d6cac9840e3"
      },
      "source": [
        "train = tf.keras.preprocessing.image_dataset_from_directory(path, batch_size=16, image_size=(224,224), shuffle=True, label_mode='categorical', validation_split = 0.25, seed = 1, subset = 'training')\n",
        "valid = tf.keras.preprocessing.image_dataset_from_directory(path, batch_size=16, image_size=(224,224), shuffle=True, label_mode='categorical', validation_split = 0.25, seed = 1, subset = 'validation')"
      ],
      "execution_count": 8,
      "outputs": [
        {
          "output_type": "stream",
          "text": [
            "Found 2909 files belonging to 6 classes.\n",
            "Using 2182 files for training.\n",
            "Found 2909 files belonging to 6 classes.\n",
            "Using 727 files for validation.\n"
          ],
          "name": "stdout"
        }
      ]
    },
    {
      "cell_type": "code",
      "metadata": {
        "id": "H__gATgjOqF-",
        "colab": {
          "base_uri": "https://localhost:8080/"
        },
        "outputId": "9a9638ad-5389-47d9-fb20-8f724107dbd3"
      },
      "source": [
        "model = tf.keras.applications.ResNet50(include_top=False, input_shape=(224,224,3))"
      ],
      "execution_count": 9,
      "outputs": [
        {
          "output_type": "stream",
          "text": [
            "Downloading data from https://storage.googleapis.com/tensorflow/keras-applications/resnet/resnet50_weights_tf_dim_ordering_tf_kernels_notop.h5\n",
            "94773248/94765736 [==============================] - 1s 0us/step\n"
          ],
          "name": "stdout"
        }
      ]
    },
    {
      "cell_type": "code",
      "metadata": {
        "id": "gV9W4D4UXbx-"
      },
      "source": [
        "model.trainable = False\r\n",
        "model2 = tf.keras.Sequential()\r\n",
        "model2.add(model)\r\n",
        "model2.add(tf.keras.layers.Flatten())\r\n",
        "# model2.add(tf.keras.layers.Dropout(0.2))\r\n",
        "# model2.add(Dense(512, activation = 'relu'))\r\n",
        "# model2.add(tf.keras.layers.Dropout(0.2))\r\n",
        "# model2.add(Dense(256, activation = 'relu'))\r\n",
        "# model2.add(tf.keras.layers.Dropout(0.2))\r\n",
        "# model2.add(Dense(128, activation = 'relu'))\r\n",
        "# model2.add(tf.keras.layers.Dropout(0.2))\r\n",
        "# model2.add(Dense(64, activation = 'relu'))\r\n",
        "model2.add(tf.keras.layers.Dropout(0.2))\r\n",
        "model2.add(tf.keras.layers.Dense(6, activation='softmax'))"
      ],
      "execution_count": 10,
      "outputs": []
    },
    {
      "cell_type": "code",
      "metadata": {
        "id": "GMBCLnz-BAdh"
      },
      "source": [
        "# model2.load_weights('/content/drive/MyDrive/waste segmentation/waste_weights.h5')"
      ],
      "execution_count": 10,
      "outputs": []
    },
    {
      "cell_type": "code",
      "metadata": {
        "colab": {
          "base_uri": "https://localhost:8080/"
        },
        "id": "YMonfbV0YPNT",
        "outputId": "59faf8a5-8822-44b2-e206-adb3f62c8d67"
      },
      "source": [
        "model2.summary()"
      ],
      "execution_count": 11,
      "outputs": [
        {
          "output_type": "stream",
          "text": [
            "Model: \"sequential\"\n",
            "_________________________________________________________________\n",
            "Layer (type)                 Output Shape              Param #   \n",
            "=================================================================\n",
            "resnet50 (Functional)        (None, 7, 7, 2048)        23587712  \n",
            "_________________________________________________________________\n",
            "flatten (Flatten)            (None, 100352)            0         \n",
            "_________________________________________________________________\n",
            "dropout (Dropout)            (None, 100352)            0         \n",
            "_________________________________________________________________\n",
            "dense (Dense)                (None, 6)                 602118    \n",
            "=================================================================\n",
            "Total params: 24,189,830\n",
            "Trainable params: 602,118\n",
            "Non-trainable params: 23,587,712\n",
            "_________________________________________________________________\n"
          ],
          "name": "stdout"
        }
      ]
    },
    {
      "cell_type": "code",
      "metadata": {
        "id": "Aw-811WRZIg7"
      },
      "source": [
        "model2.compile(optimizer=tf.keras.optimizers.Adam(), loss = tf.keras.losses.CategoricalCrossentropy(), metrics = ['accuracy'])"
      ],
      "execution_count": 12,
      "outputs": []
    },
    {
      "cell_type": "code",
      "metadata": {
        "colab": {
          "base_uri": "https://localhost:8080/"
        },
        "id": "VH_uy9VlZ6lf",
        "outputId": "4b6a3681-924b-4d08-f866-4e515d17ea43"
      },
      "source": [
        "model2.fit(x=train, validation_data=valid, epochs = 10)"
      ],
      "execution_count": 13,
      "outputs": [
        {
          "output_type": "stream",
          "text": [
            "Epoch 1/10\n",
            "137/137 [==============================] - 44s 84ms/step - loss: 6.3781 - accuracy: 0.6647 - val_loss: 3.3979 - val_accuracy: 0.8459\n",
            "Epoch 2/10\n",
            "137/137 [==============================] - 10s 74ms/step - loss: 1.4336 - accuracy: 0.9269 - val_loss: 4.4661 - val_accuracy: 0.8514\n",
            "Epoch 3/10\n",
            "137/137 [==============================] - 10s 74ms/step - loss: 0.7554 - accuracy: 0.9583 - val_loss: 4.8072 - val_accuracy: 0.8336\n",
            "Epoch 4/10\n",
            "137/137 [==============================] - 10s 73ms/step - loss: 0.6589 - accuracy: 0.9671 - val_loss: 4.3122 - val_accuracy: 0.8652\n",
            "Epoch 5/10\n",
            "137/137 [==============================] - 10s 74ms/step - loss: 0.4967 - accuracy: 0.9783 - val_loss: 4.1543 - val_accuracy: 0.8762\n",
            "Epoch 6/10\n",
            "137/137 [==============================] - 10s 74ms/step - loss: 0.4797 - accuracy: 0.9762 - val_loss: 5.2997 - val_accuracy: 0.8693\n",
            "Epoch 7/10\n",
            "137/137 [==============================] - 10s 74ms/step - loss: 0.6037 - accuracy: 0.9819 - val_loss: 7.6798 - val_accuracy: 0.8404\n",
            "Epoch 8/10\n",
            "137/137 [==============================] - 10s 74ms/step - loss: 0.3388 - accuracy: 0.9811 - val_loss: 5.2984 - val_accuracy: 0.8583\n",
            "Epoch 9/10\n",
            "137/137 [==============================] - 10s 74ms/step - loss: 0.4419 - accuracy: 0.9857 - val_loss: 4.7530 - val_accuracy: 0.8872\n",
            "Epoch 10/10\n",
            "137/137 [==============================] - 10s 74ms/step - loss: 0.3525 - accuracy: 0.9822 - val_loss: 5.5537 - val_accuracy: 0.8721\n"
          ],
          "name": "stdout"
        },
        {
          "output_type": "execute_result",
          "data": {
            "text/plain": [
              "<tensorflow.python.keras.callbacks.History at 0x7f19be0d3490>"
            ]
          },
          "metadata": {
            "tags": []
          },
          "execution_count": 13
        }
      ]
    },
    {
      "cell_type": "code",
      "metadata": {
        "id": "gAtEPXeqxF2u"
      },
      "source": [
        ""
      ],
      "execution_count": null,
      "outputs": []
    },
    {
      "cell_type": "code",
      "metadata": {
        "colab": {
          "base_uri": "https://localhost:8080/"
        },
        "id": "oTQXpODTEFiB",
        "outputId": "d13e8849-be31-47de-d2c9-ec1a3e786430"
      },
      "source": [
        "temp = img_to_array(load_img('/content/WhatsApp Image 2021-03-13 at 11.40.33 PM.jpeg', target_size=(224,224))).reshape(1,224,224,3)\r\n",
        "np.argmax(model2.predict(temp))\r\n"
      ],
      "execution_count": 19,
      "outputs": [
        {
          "output_type": "execute_result",
          "data": {
            "text/plain": [
              "3"
            ]
          },
          "metadata": {
            "tags": []
          },
          "execution_count": 19
        }
      ]
    },
    {
      "cell_type": "code",
      "metadata": {
        "id": "yz91ePlNZ9NM"
      },
      "source": [
        "model2.save_weights('model_weights_1.h5')"
      ],
      "execution_count": 17,
      "outputs": []
    },
    {
      "cell_type": "code",
      "metadata": {
        "id": "uhM0J89q_Gw3"
      },
      "source": [
        "!cp model_weights_1.h5 /content/drive/Shareddrives/Hackathon/model_weights_1.h5"
      ],
      "execution_count": 18,
      "outputs": []
    },
    {
      "cell_type": "code",
      "metadata": {
        "id": "veq7KxLp_k_d"
      },
      "source": [
        ""
      ],
      "execution_count": null,
      "outputs": []
    }
  ]
}